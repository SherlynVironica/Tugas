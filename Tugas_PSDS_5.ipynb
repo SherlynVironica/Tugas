{
  "nbformat": 4,
  "nbformat_minor": 0,
  "metadata": {
    "colab": {
      "provenance": [],
      "authorship_tag": "ABX9TyNcahVcbknJACCO+Zz6TAVn",
      "include_colab_link": true
    },
    "kernelspec": {
      "name": "python3",
      "display_name": "Python 3"
    },
    "language_info": {
      "name": "python"
    }
  },
  "cells": [
    {
      "cell_type": "markdown",
      "metadata": {
        "id": "view-in-github",
        "colab_type": "text"
      },
      "source": [
        "<a href=\"https://colab.research.google.com/github/SherlynVironica/Tugas/blob/main/Tugas_PSDS_5.ipynb\" target=\"_parent\"><img src=\"https://colab.research.google.com/assets/colab-badge.svg\" alt=\"Open In Colab\"/></a>"
      ]
    },
    {
      "cell_type": "markdown",
      "source": [
        "# **Function**"
      ],
      "metadata": {
        "id": "wDpC4dN979_g"
      }
    },
    {
      "cell_type": "markdown",
      "source": [
        "Function (fungsi) adalah sebuah blok statement yang hanya akan dijalankan saat ia panggil"
      ],
      "metadata": {
        "id": "VUqu-WAG8BvM"
      }
    },
    {
      "cell_type": "markdown",
      "source": [
        "Fungsi len() untuk mengukur jumlah elemen dalam sebuah list dan fungsi print() untuk menampilkan pesan pada layar konsol merupakan contoh dari bentuk fungsi yang telah disediakan oleh bahasa pemrograman Python dengan kata lain built-in functions. Selain fungsi yang telah disediakan Python, Python mengizinkan untuk mendeklarasikan fungsi dalam kode yang dituliskan yang dikenal dengan user defined function."
      ],
      "metadata": {
        "id": "35rtcTVl8Iuv"
      }
    },
    {
      "cell_type": "code",
      "execution_count": null,
      "metadata": {
        "id": "x8k3fFBM76XK"
      },
      "outputs": [],
      "source": [
        "def nama_fungsi(argument):\n",
        "  statement_1\n",
        "\n",
        "  statement_n\n",
        "  return returned_value"
      ]
    },
    {
      "cell_type": "markdown",
      "source": [
        "*   nama_fungsi adalah untuk fungsi yang anda definisikan, memiliki aturan seperti penamaan variabel\n",
        "*   argument adalah variabel masukan ke fungsi, biasa tanpa variabel, satu variabel atau lebih\n",
        "*   statement_1.. statement_n adalah algoritma yang telah anda transfer dalam bahasa python yang merupakan inti dari fungsi yang anda definisikan. Seluruh statement adalah menjorok (indent) ke dalam seperti yang pernah anda peljari pada conditioning dan looping\n",
        "*   return_value adalah variabel output dari fungsi anda, bisa tanpa variabel, satu variabel atau lebih\n",
        "\n",
        "\n",
        "\n"
      ],
      "metadata": {
        "id": "zml-vXUZ805-"
      }
    },
    {
      "cell_type": "markdown",
      "source": [
        "# Argumen dan Parameter"
      ],
      "metadata": {
        "id": "6_X1WPP09bhE"
      }
    },
    {
      "cell_type": "markdown",
      "source": [
        "*   Parameter adalah varabel yang digunakan dalam deklarasi fungsi\n",
        "*   Argumen adalah nilai yang diberikan saat pemanggilan fungsi\n",
        "\n"
      ],
      "metadata": {
        "id": "lv9HdoyI9lWM"
      }
    },
    {
      "cell_type": "code",
      "source": [
        "def print_nama(nama): #'nama' adalah parameter\n",
        "  print(nama)\n",
        "\n",
        "print_nama('Sher') #'Sher' adalah argumen"
      ],
      "metadata": {
        "colab": {
          "base_uri": "https://localhost:8080/"
        },
        "id": "YVZVQ8Z38NTI",
        "outputId": "a0327936-214b-45db-8180-0e8d80233e04"
      },
      "execution_count": null,
      "outputs": [
        {
          "output_type": "stream",
          "name": "stdout",
          "text": [
            "Sher\n"
          ]
        }
      ]
    },
    {
      "cell_type": "markdown",
      "source": [
        "# Argumen posisi dan kata kunci"
      ],
      "metadata": {
        "id": "gxasMbIW96tm"
      }
    },
    {
      "cell_type": "markdown",
      "source": [
        "Kita bisa menyatakan argumen posisi atau kata kunci. Beberapa manfaat argumen kata kunci dapat berupa:\n",
        "*   Kita dapat menyebut argumen dengan mereka untuk menjelaskan apa yang merekan wakili\n",
        "*   Kita dapat mengatur ulang argumen dengan cara membuatnya paling mudah dibaca"
      ],
      "metadata": {
        "id": "PAJMY3Tc-DXr"
      }
    },
    {
      "cell_type": "code",
      "source": [
        "def angka(a, b, c):\n",
        "    print(a, b, c)\n",
        "\n",
        "#argumen posisi\n",
        "#argumen berdasarkan posisinya\n",
        "angka(1, 2, 3)\n",
        "\n",
        "#argumen berdasarkan kata kuncinya\n",
        "angka(a=1, b=2, c=3)\n",
        "angka(c=3, b=2, a=1)\n",
        "\n",
        "#catatan: jika sudah diberi kunci maka urutan tidak penting\n",
        "\n",
        "#campuran antara argumen posisi dan kata kunci\n",
        "angka(1, b=2, c=3)\n",
        "\n",
        "#ini tidak diijinkan:\n",
        "#foo(1, b=2, 3) #argumen posisiona setelah argumen kunci\n",
        "#foo(1, b=2, a=3) #terdapat dua nilai untuk argumen kunci 'a'"
      ],
      "metadata": {
        "colab": {
          "base_uri": "https://localhost:8080/"
        },
        "id": "iy_3GIRH94_R",
        "outputId": "cfc23ec0-aa46-4a50-e785-f99c03a9706c"
      },
      "execution_count": null,
      "outputs": [
        {
          "output_type": "stream",
          "name": "stdout",
          "text": [
            "1 2 3\n",
            "1 2 3\n",
            "1 2 3\n",
            "1 2 3\n"
          ]
        }
      ]
    },
    {
      "cell_type": "markdown",
      "source": [
        "# Argumen Default"
      ],
      "metadata": {
        "id": "rQLo_e-R-aN6"
      }
    },
    {
      "cell_type": "markdown",
      "source": [
        "Fungsi dapat memiliki argumen default dengan nilai yang telah ditentukan sebelumnya. Argumen ini dapat ditinggalkan dan nilai default kemudian diteruskan ke fungsi, atau argumen dapat dirubah dengan nilai yang berbeda. Perhatikan bahwa argumen default harus ditentukan sebagai **parameter terakhir** dalam suatu fungsi."
      ],
      "metadata": {
        "id": "hFhDkde_-dwJ"
      }
    },
    {
      "cell_type": "code",
      "source": [
        "#argumen default\n",
        "def angka2(a, b, c, d=4):\n",
        "    print(a, b, c, d)\n",
        "\n",
        "angka2(1, 2, 3, 4)\n",
        "angka2(1, b=2, c=3, d=100)\n",
        "\n",
        "#Argumen default harus diletakkan terakhir"
      ],
      "metadata": {
        "colab": {
          "base_uri": "https://localhost:8080/"
        },
        "id": "-2BpWoHs-Ywt",
        "outputId": "65ef58b5-56a9-4abb-babc-f2e31947a46d"
      },
      "execution_count": null,
      "outputs": [
        {
          "output_type": "stream",
          "name": "stdout",
          "text": [
            "1 2 3 4\n",
            "1 2 3 100\n"
          ]
        }
      ]
    },
    {
      "cell_type": "markdown",
      "source": [
        "# Praktik membuat fungsi"
      ],
      "metadata": {
        "id": "OjCDiqdA_Fo3"
      }
    },
    {
      "cell_type": "code",
      "source": [
        "x = 1\n",
        "y = 2\n",
        "x*y"
      ],
      "metadata": {
        "colab": {
          "base_uri": "https://localhost:8080/"
        },
        "id": "ptZAS320_Eej",
        "outputId": "945d07c9-ff83-4e60-8811-21e2b68bd5c1"
      },
      "execution_count": null,
      "outputs": [
        {
          "output_type": "execute_result",
          "data": {
            "text/plain": [
              "2"
            ]
          },
          "metadata": {},
          "execution_count": 9
        }
      ]
    },
    {
      "cell_type": "code",
      "source": [
        "def penjumlahan(x,y): #input\n",
        "  a= x+y              #proses\n",
        "  return a            #output\n",
        "\n",
        "penjumlahan(1, 2)     #menggunakan fungsi"
      ],
      "metadata": {
        "colab": {
          "base_uri": "https://localhost:8080/"
        },
        "id": "Wc3bth_i_MWS",
        "outputId": "84c8de2c-da30-47b4-f34e-29839eb58112"
      },
      "execution_count": null,
      "outputs": [
        {
          "output_type": "execute_result",
          "data": {
            "text/plain": [
              "3"
            ]
          },
          "metadata": {},
          "execution_count": 11
        }
      ]
    },
    {
      "cell_type": "markdown",
      "source": [
        "Penjumlahan yang memungkinkan untuk tiga bilangan"
      ],
      "metadata": {
        "id": "wXCcIB9A_UH6"
      }
    },
    {
      "cell_type": "code",
      "source": [
        "def penjumlahan(x,y,z=None):\n",
        "    if (z==None):\n",
        "        return x+y\n",
        "    else:\n",
        "        return x+y+z\n",
        "\n",
        "print(penjumlahan(1, 2))\n",
        "print(penjumlahan(1, 2, 3))"
      ],
      "metadata": {
        "colab": {
          "base_uri": "https://localhost:8080/"
        },
        "id": "iIY3OHtQ_PFh",
        "outputId": "830b9cc7-c1b1-42a4-d70e-e845de0d9c36"
      },
      "execution_count": null,
      "outputs": [
        {
          "output_type": "stream",
          "name": "stdout",
          "text": [
            "3\n",
            "6\n"
          ]
        }
      ]
    },
    {
      "cell_type": "markdown",
      "source": [
        "Menyimpan hasil fungsi dalam variabel"
      ],
      "metadata": {
        "id": "NeWtARbS_Z4I"
      }
    },
    {
      "cell_type": "code",
      "source": [
        "def penjumlahan(x,y):\n",
        "    return x+y\n",
        "\n",
        "a = penjumlahan\n",
        "a(1, 2)"
      ],
      "metadata": {
        "colab": {
          "base_uri": "https://localhost:8080/"
        },
        "id": "_DrgEPmc_X15",
        "outputId": "a79ca60a-188a-4074-d03f-4a068389c439"
      },
      "execution_count": null,
      "outputs": [
        {
          "output_type": "execute_result",
          "data": {
            "text/plain": [
              "3"
            ]
          },
          "metadata": {},
          "execution_count": 13
        }
      ]
    },
    {
      "cell_type": "markdown",
      "source": [
        "Latihan 1"
      ],
      "metadata": {
        "id": "uKGcIrBi_jaf"
      }
    },
    {
      "cell_type": "markdown",
      "source": [
        "Buatlah Function phytagoras dengan input argumennya panjang tinggi dan alas segitiga untuk menghasilkan output nilai panjang sisi miring"
      ],
      "metadata": {
        "id": "qI6D3rN0_poe"
      }
    },
    {
      "cell_type": "code",
      "source": [
        "def pythagoras(tinggi, alas):\n",
        "  sisi_miring = ((tinggi*tinggi) + (alas*alas))**(1/2)\n",
        "  return sisi_miring"
      ],
      "metadata": {
        "id": "x03Sukc0_fOk"
      },
      "execution_count": null,
      "outputs": []
    },
    {
      "cell_type": "code",
      "source": [
        "pythagoras(3, 4)"
      ],
      "metadata": {
        "colab": {
          "base_uri": "https://localhost:8080/"
        },
        "id": "s8zS-Ydp_sn0",
        "outputId": "c8997f0f-a73d-4780-cfa3-0b5991b920fa"
      },
      "execution_count": null,
      "outputs": [
        {
          "output_type": "execute_result",
          "data": {
            "text/plain": [
              "5.0"
            ]
          },
          "metadata": {},
          "execution_count": 18
        }
      ]
    },
    {
      "cell_type": "markdown",
      "source": [
        "Latihan 2"
      ],
      "metadata": {
        "id": "opoZnEPlAZo5"
      }
    },
    {
      "cell_type": "markdown",
      "source": [
        "Buatlah function luas permukaan balok dengan input argumennya panjang, lebar, dan tinggi dari balok untuk menghasilkan output nilai luas permukaan balok tersebut."
      ],
      "metadata": {
        "id": "baQUTVnCAbNO"
      }
    },
    {
      "cell_type": "code",
      "source": [
        "panjang = 8\n",
        "lebar = 6\n",
        "tinggi = 5"
      ],
      "metadata": {
        "id": "PD3ADGtQ_y1M"
      },
      "execution_count": null,
      "outputs": []
    },
    {
      "cell_type": "code",
      "source": [
        "def luas_permukaan_balok(panjang, lebar, tinggi):\n",
        "    luas_permukaan = 2 * (panjang * lebar + panjang * tinggi + lebar * tinggi)\n",
        "    return luas_permukaan"
      ],
      "metadata": {
        "id": "kq0tWXERAvhU"
      },
      "execution_count": null,
      "outputs": []
    },
    {
      "cell_type": "code",
      "source": [
        "luas_permukaan_balok(8, 6, 5)"
      ],
      "metadata": {
        "colab": {
          "base_uri": "https://localhost:8080/"
        },
        "id": "Hwl5i6trAw2d",
        "outputId": "e9690780-12f8-4c3f-c40a-2af77fdf1418"
      },
      "execution_count": null,
      "outputs": [
        {
          "output_type": "execute_result",
          "data": {
            "text/plain": [
              "236"
            ]
          },
          "metadata": {},
          "execution_count": 22
        }
      ]
    },
    {
      "cell_type": "markdown",
      "source": [
        "# **Lambda**"
      ],
      "metadata": {
        "id": "hnBfsFCEA8VL"
      }
    },
    {
      "cell_type": "markdown",
      "source": [
        "Fungsi Lambda adalah fungsi anonim one line yang didefinisikan tanpa nama. Fungsi lambda dapat mengambil sejumlah argument, tetapi hanya dapat memiliki satu expression. Sementara fungsi normal didefinisikan menggunakan kata kunci def, dalam Python fungsi anonim didefinisikan menggunakan kata kunci lambda."
      ],
      "metadata": {
        "id": "-GPSjtshBBpw"
      }
    },
    {
      "cell_type": "markdown",
      "source": [
        "Fungsi Lambda digunakan ketika fungsi sederhana hanya digunakan sekali atau untuk waktu yang singkat dalam kode kita. Penggunaannya yang paling umum adalah sebagai argumen untuk fungsi tingkat tinggi (fungsi yang menggunakan fungsi lain sebagai argument).\n",
        "\n",
        "Lambda expression di python adalah sebuah ekspressi untuk membuat fungsi.\n",
        "\n",
        "Lamba sendiri berasal dari teori kalkulus, yakni lambda calculus yang dikenalkan oleh Alonzo Church di tahun 1930.\n",
        "\n",
        "Berkat Lambda, kita bisa membuat fungsi tanpa nama atau di kenal juga dengan anonymous function.\n",
        "\n",
        "![WhatsApp Image 2023-07-09 at 21.25.41.jpg](data:image/jpeg;base64,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)"
      ],
      "metadata": {
        "id": "icUYvAY7CDq-"
      }
    },
    {
      "cell_type": "markdown",
      "source": [
        "Lambda bisa memiliki lebih dari satu argumen atau parameter, tapi hanya bisa memiliki satu ekspresi atau isi."
      ],
      "metadata": {
        "id": "E1lu6BlwDU1k"
      }
    },
    {
      "cell_type": "code",
      "source": [
        "greeting = lambda name: print(f\"hello, {name}\")"
      ],
      "metadata": {
        "id": "bIo391EnA6xU"
      },
      "execution_count": null,
      "outputs": []
    },
    {
      "cell_type": "markdown",
      "source": [
        "Karena fungsi lambda tidak punya nama, jadi kita butuh variabel untuk menyimpannya.\n",
        "\n",
        "Nanti saat mau kita panggil, kita tinggali tuliskan saja nama variabelnya seperti ini:"
      ],
      "metadata": {
        "id": "FMwJW8tlDabP"
      }
    },
    {
      "cell_type": "code",
      "source": [
        "greeting(\"Sher\")\n",
        "greeting(\"lyn\")"
      ],
      "metadata": {
        "colab": {
          "base_uri": "https://localhost:8080/"
        },
        "id": "pRZasxhgDXzT",
        "outputId": "8d3cf9e2-fe30-4ce9-9e43-e356db409060"
      },
      "execution_count": null,
      "outputs": [
        {
          "output_type": "stream",
          "name": "stdout",
          "text": [
            "hello, Sher\n",
            "hello, lyn\n"
          ]
        }
      ]
    },
    {
      "cell_type": "markdown",
      "source": [
        "Beberapa contoh penggunaan fungsi lambda"
      ],
      "metadata": {
        "id": "39rwAQFcEXrY"
      }
    },
    {
      "cell_type": "code",
      "source": [
        "#Fungsi Lambda untuk menambahkan angka 10 kepada argument input\n",
        "f = lambda x: x+10\n",
        "val1 = f(5)\n",
        "val2 = f(100)\n",
        "print(val1,val2)"
      ],
      "metadata": {
        "colab": {
          "base_uri": "https://localhost:8080/"
        },
        "id": "I8MPiRr9DzYU",
        "outputId": "a72c33bb-888d-4d09-bd84-2f6130e2cfb5"
      },
      "execution_count": null,
      "outputs": [
        {
          "output_type": "stream",
          "name": "stdout",
          "text": [
            "15 110\n"
          ]
        }
      ]
    },
    {
      "cell_type": "code",
      "source": [
        "#Fungsi Lambda untuk mengalihkan dua argumen input dan menampilakn hasilnya\n",
        "f = lambda x,y:x*y\n",
        "val3 = f(2,10)\n",
        "val4 = f(7,5)\n",
        "print(val3,val4)"
      ],
      "metadata": {
        "colab": {
          "base_uri": "https://localhost:8080/"
        },
        "id": "kTHxm62vEnXO",
        "outputId": "1e79a0c8-e4ce-4767-aef7-221e9cdc63c8"
      },
      "execution_count": null,
      "outputs": [
        {
          "output_type": "stream",
          "name": "stdout",
          "text": [
            "20 35\n"
          ]
        }
      ]
    },
    {
      "cell_type": "markdown",
      "source": [
        "# Anonymous Function"
      ],
      "metadata": {
        "id": "SbGd50VwEr1v"
      }
    },
    {
      "cell_type": "markdown",
      "source": [
        "Karena lambda adalah anonymous function, ia akan bebas menggunakan nama apa saja. Dengan kata lain, fungsi lambda bisa disimpan di variabel mana pun. Ini tentunya tidak bisa dilakukan oleh fungsi yang dibuat dengan def. Coba perhatikan ini:"
      ],
      "metadata": {
        "id": "DZXI78e9Ey6K"
      }
    },
    {
      "cell_type": "code",
      "source": [
        "def say_hello(nama):\n",
        "  print(f\"hello{nama}, apa kabar?\")\n",
        "\n",
        "ucapin = saya_hello(nama)"
      ],
      "metadata": {
        "colab": {
          "base_uri": "https://localhost:8080/",
          "height": 201
        },
        "id": "cEtSd43lEqb1",
        "outputId": "2800dfea-4ee8-4cee-81a9-10ad3eb44dc6"
      },
      "execution_count": null,
      "outputs": [
        {
          "output_type": "error",
          "ename": "NameError",
          "evalue": "ignored",
          "traceback": [
            "\u001b[0;31m---------------------------------------------------------------------------\u001b[0m",
            "\u001b[0;31mNameError\u001b[0m                                 Traceback (most recent call last)",
            "\u001b[0;32m<ipython-input-27-df9d278e2644>\u001b[0m in \u001b[0;36m<cell line: 4>\u001b[0;34m()\u001b[0m\n\u001b[1;32m      2\u001b[0m   \u001b[0mprint\u001b[0m\u001b[0;34m(\u001b[0m\u001b[0;34mf\"hello{nama}, apa kabar?\"\u001b[0m\u001b[0;34m)\u001b[0m\u001b[0;34m\u001b[0m\u001b[0;34m\u001b[0m\u001b[0m\n\u001b[1;32m      3\u001b[0m \u001b[0;34m\u001b[0m\u001b[0m\n\u001b[0;32m----> 4\u001b[0;31m \u001b[0mucapin\u001b[0m \u001b[0;34m=\u001b[0m \u001b[0msaya_hello\u001b[0m\u001b[0;34m(\u001b[0m\u001b[0mnama\u001b[0m\u001b[0;34m)\u001b[0m\u001b[0;34m\u001b[0m\u001b[0;34m\u001b[0m\u001b[0m\n\u001b[0m",
            "\u001b[0;31mNameError\u001b[0m: name 'saya_hello' is not defined"
          ]
        }
      ]
    },
    {
      "cell_type": "markdown",
      "source": [
        "Saya mencoba membuat fungsi say_hello() dengan def, kemudian menyimpannya ke dalam variabel ucapin. Tapi malah eror.\n",
        "\n",
        "Ini karena fungsi tersebut bukanlah fungsi anonymous yang boleh diubah-ubah namanya.\n",
        "\n",
        "Lalu coba perhatikan di baris terakhir, fungsi lambda greeting() yang sudah disimpan lagi ke variabel yang berbeda, yakni sapa."
      ],
      "metadata": {
        "id": "XrcYc6skE-Vd"
      }
    },
    {
      "cell_type": "code",
      "source": [
        "greeting = lambda name: print(f\"hello, {name}\")\n",
        "sapa = greeting\n",
        "greeting(\"Sher\")\n",
        "sapa(\"Lyn\")"
      ],
      "metadata": {
        "colab": {
          "base_uri": "https://localhost:8080/"
        },
        "id": "V8qDLIPdE3X4",
        "outputId": "c62d172b-e636-4697-e33f-9154afff6242"
      },
      "execution_count": null,
      "outputs": [
        {
          "output_type": "stream",
          "name": "stdout",
          "text": [
            "hello, Sher\n",
            "hello, Lyn\n"
          ]
        }
      ]
    },
    {
      "cell_type": "markdown",
      "source": [
        "Hasilnya tidak eror, karena ini adalah fungsi anonymous atau lambda"
      ],
      "metadata": {
        "id": "VgXT0wOlFcS3"
      }
    },
    {
      "cell_type": "markdown",
      "source": [
        "# Eksekusi Lambda secara langsung"
      ],
      "metadata": {
        "id": "JUh69oHrFjxV"
      }
    },
    {
      "cell_type": "markdown",
      "source": [
        "Eksekusi lambda secara langsung kelebihan fungsi dibandingkan def adalah bisa kita eksekusi langsung.\n",
        "\n",
        "Contohnya:"
      ],
      "metadata": {
        "id": "pOVcl8K4FymD"
      }
    },
    {
      "cell_type": "code",
      "source": [
        "(lambda x,y: x**2 + y**2)(4,6)"
      ],
      "metadata": {
        "colab": {
          "base_uri": "https://localhost:8080/"
        },
        "id": "w4YNu-OKFa5z",
        "outputId": "52f0137b-91a0-4406-9b09-2f12303c013a"
      },
      "execution_count": null,
      "outputs": [
        {
          "output_type": "execute_result",
          "data": {
            "text/plain": [
              "52"
            ]
          },
          "metadata": {},
          "execution_count": 29
        }
      ]
    },
    {
      "cell_type": "markdown",
      "source": [
        "Tanda kurung ysng mengapit fungsi lambda artinya akan langsung mengeksekusi fungsi tersebut.\n",
        "\n",
        "Lalu kurung berikutnya akan berisi parameter\n",
        "\n",
        "Angka 4 dan 6 adalah parameter x dan y yang akan diberikan kepada fungsi lambda.\n",
        "\n",
        "Maka kita akan langsung mendapatkan hasilnya, yakni 42 + 62 = 52\n",
        "\n",
        "Hasil dari eksekusi ini bisa juga kita simpan ke dalam variabel"
      ],
      "metadata": {
        "id": "YKw4K-S-F8CO"
      }
    },
    {
      "cell_type": "code",
      "source": [
        "hasil = (lambda x,y: x**2 + y**2)(4,6)"
      ],
      "metadata": {
        "id": "tROD9bvcF4DQ"
      },
      "execution_count": null,
      "outputs": []
    },
    {
      "cell_type": "markdown",
      "source": [
        "Mengapa harus pakai lambda?"
      ],
      "metadata": {
        "id": "6xfthIUEGD0-"
      }
    },
    {
      "cell_type": "markdown",
      "source": [
        "Kita memang tidak harus selalu menggunakan Lambda, tapi dalam kasus tertentu lambda lebih baik dibandingkan fungs biasa.\n",
        "\n",
        "Lambda biasanya dibutuhkan saat ingin membuat fungsi dalam satu baris.\n",
        "\n",
        "Biasanya saat menggunakan fungsi-fungsi seperti filter(), map(), dan reduce() kita akan membuatuhkan lambda.\n",
        "\n",
        "Mengapa?\n",
        "\n",
        "Karena di fungsi-fungsi tersebut membutuhkan parameter fungsi.\n",
        "\n",
        "Contoh:"
      ],
      "metadata": {
        "id": "snF6qVPUGMb9"
      }
    },
    {
      "cell_type": "code",
      "source": [
        "bilangan = [10,2,8,7,5,4,3,11,0,1]\n",
        "filtered_result = map (lambda x: x*x, bilangan)\n",
        "print(list(filtered_result))"
      ],
      "metadata": {
        "colab": {
          "base_uri": "https://localhost:8080/"
        },
        "id": "zY_bIvT2GCfD",
        "outputId": "6dbd6e1e-e550-45ec-fcf3-2d6e95b91bd5"
      },
      "execution_count": null,
      "outputs": [
        {
          "output_type": "stream",
          "name": "stdout",
          "text": [
            "[100, 4, 64, 49, 25, 16, 9, 121, 0, 1]\n"
          ]
        }
      ]
    },
    {
      "cell_type": "markdown",
      "source": [
        "Pada fungsi map() kita memberikan parameter dengan fungsi lambda.\n",
        "\n",
        "Mengapa bisa begitu?\n",
        "\n",
        "Karena Lambda bisa disimpan ke dalam variabel, otomatis dia akan bisa juga jadi parameter.\n",
        "\n",
        "Satu lagi contoh dengan fungsi filter()"
      ],
      "metadata": {
        "id": "4mNcFg4-GXpH"
      }
    },
    {
      "cell_type": "code",
      "source": [
        "#Menentukan bilangan genap\n",
        "genap = lambda x: x%2 == 0\n",
        "list(filter(genap, range(11)))"
      ],
      "metadata": {
        "colab": {
          "base_uri": "https://localhost:8080/"
        },
        "id": "8GnbBPJiGT_y",
        "outputId": "23301ba8-07d8-40d5-e88c-7708661c3826"
      },
      "execution_count": null,
      "outputs": [
        {
          "output_type": "execute_result",
          "data": {
            "text/plain": [
              "[0, 2, 4, 6, 8, 10]"
            ]
          },
          "metadata": {},
          "execution_count": 32
        }
      ]
    },
    {
      "cell_type": "markdown",
      "source": [
        "Tugas PSDS 11"
      ],
      "metadata": {
        "id": "85nwkk7YGfCZ"
      }
    },
    {
      "cell_type": "markdown",
      "source": [
        "Buatlah fungsi lambda untuk menghitung luas dari persegi panjang"
      ],
      "metadata": {
        "id": "C9kIBe8qGj6l"
      }
    },
    {
      "cell_type": "code",
      "source": [
        "luas_pp = (lambda panjang,lebar: panjang*lebar)(18,8)\n",
        "luas_pp"
      ],
      "metadata": {
        "colab": {
          "base_uri": "https://localhost:8080/"
        },
        "id": "R9xt9DijGc_K",
        "outputId": "d0219268-6880-44c8-bab9-7b35b493ea1a"
      },
      "execution_count": null,
      "outputs": [
        {
          "output_type": "execute_result",
          "data": {
            "text/plain": [
              "144"
            ]
          },
          "metadata": {},
          "execution_count": 34
        }
      ]
    },
    {
      "cell_type": "markdown",
      "source": [
        "Buatlah fungsi lambda untuk menghitung luas dari segitiga"
      ],
      "metadata": {
        "id": "N7wOjdUzGolw"
      }
    },
    {
      "cell_type": "code",
      "source": [
        "luas_segitiga = (lambda alas,tinggi: 0.5*alas*tinggi)(18,8)\n",
        "luas_segitiga"
      ],
      "metadata": {
        "colab": {
          "base_uri": "https://localhost:8080/"
        },
        "id": "CtyKtdDKGnWT",
        "outputId": "b489add4-b965-4d1b-dd7a-d1ca6f1ff274"
      },
      "execution_count": null,
      "outputs": [
        {
          "output_type": "execute_result",
          "data": {
            "text/plain": [
              "72.0"
            ]
          },
          "metadata": {},
          "execution_count": 35
        }
      ]
    },
    {
      "cell_type": "code",
      "source": [],
      "metadata": {
        "id": "3YpZ9EOuG6zK"
      },
      "execution_count": null,
      "outputs": []
    }
  ]
}