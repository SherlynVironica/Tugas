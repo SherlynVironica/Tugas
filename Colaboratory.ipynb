{
  "nbformat": 4,
  "nbformat_minor": 0,
  "metadata": {
    "colab": {
      "provenance": []
    },
    "kernelspec": {
      "name": "python3",
      "display_name": "Python 3"
    },
    "language_info": {
      "name": "python"
    }
  },
  "cells": [
    {
      "cell_type": "markdown",
      "source": [
        "List Ptython\n",
        "\n",
        "Dalam bahasa pemprograman Python, struktur data yang paling dasar adalah urutan atau list. Setiap elemen-elemen berurutan akan di beri nomor posisi atau indeksnya. Indeks pertama dalam list adalah nol, indeks kedua adalah satu dan seterusnya.\n",
        "Python memiliki 6 jenis urutan built-in, namun yang paling umum adalah list dan tuple. Ada beberapa hal yang dapat anda lakukan dengan semua jenis list. Operasi ini meliputi pengindeksan, pengiris, penambahan, perbanyak, dan pengecekan keanggotaan. Selain itu, Python memiliki fungsi built-in untuk menemukan panjang list dan untuk menemukan elemen terbesar dan terkecilnya."
      ],
      "metadata": {
        "id": "PVa-_5_xij6K"
      }
    },
    {
      "cell_type": "markdown",
      "source": [
        "Membuat list python\n",
        "\n",
        "List adalah tipe data yang paling serbaguna yang tersedia dalam bahasa python, yang dapat ditulis sebagai daftar nilai yang dipisahkan koma (item) antara tanda kurung siku. Hal terpenting tentang daftar adalah item dalam list tidak boleh sama jenisnya.\n",
        "\n",
        "Membuat list sangat sederhana, tinggal memasukkan berbagai nilai yang dipisahkan koma antara tanda kurung siku. Dibawah ini adalah contoh sederhana pembuatan list dalam bahasa python."
      ],
      "metadata": {
        "id": "FFSOFWlVjlrm"
      }
    },
    {
      "cell_type": "code",
      "source": [
        "# contoh sederhana pembuatan list pada bahasa pemprograman python\n",
        "list1 = ['kimia', 'fisika', 1993, 2017]\n",
        "list2 = [1, 2, 3, 4, 5]\n",
        "list3 = [\"a\", \"b\", \"c\", \"d\"]\n",
        "\n",
        "print('list1:', list1)\n",
        "print('list2:', list2)\n",
        "print('list3:', list3)"
      ],
      "metadata": {
        "colab": {
          "base_uri": "https://localhost:8080/"
        },
        "id": "vI1_OaWzkQUg",
        "outputId": "9bc2cf9f-709d-45bb-c739-6d4ea31a3db8"
      },
      "execution_count": 1,
      "outputs": [
        {
          "output_type": "stream",
          "name": "stdout",
          "text": [
            "list1: ['kimia', 'fisika', 1993, 2017]\n",
            "list2: [1, 2, 3, 4, 5]\n",
            "list3: ['a', 'b', 'c', 'd']\n"
          ]
        }
      ]
    },
    {
      "cell_type": "markdown",
      "source": [
        "Akses nilai dalam list python\n",
        "\n",
        "Untuk mengakses nilai dalam list python, gunakan tanda kurung siku untuk mengiris beserta indeks atau indeks untuk mendapatkan nilai yang tersedia pada indeks tersebut."
      ],
      "metadata": {
        "id": "d0dnVtzGk9jl"
      }
    },
    {
      "cell_type": "code",
      "source": [
        "#Cara mengakses nilai di dalam list python\n",
        "list1 = ['fisika', 'kimia', 1993, 2017]\n",
        "list2 = [1, 2, 3, 4, 5]\n",
        "\n",
        "print (\"list1[0]:\", list1[0])\n",
        "print (\"list2[1:5]:\", list2[1:5])"
      ],
      "metadata": {
        "colab": {
          "base_uri": "https://localhost:8080/"
        },
        "id": "e1h25wI7k8qi",
        "outputId": "0ad2801e-a4e8-4ae5-f4e3-cd90ebeff0be"
      },
      "execution_count": 2,
      "outputs": [
        {
          "output_type": "stream",
          "name": "stdout",
          "text": [
            "list1[0]: fisika\n",
            "list2[1:5]: [2, 3, 4, 5]\n"
          ]
        }
      ]
    },
    {
      "cell_type": "markdown",
      "source": [
        "Update nilai dalam list python\n",
        "\n",
        "Kita dapat memperbarui satu atau beberapa nilai di dalam list dengan memberikan potongan di sisi kiri operator penugasan, dan kita dapat menambahkan nilai ke dalam list dengan metode append()."
      ],
      "metadata": {
        "id": "vDHPeth6l0BA"
      }
    },
    {
      "cell_type": "code",
      "execution_count": 3,
      "metadata": {
        "colab": {
          "base_uri": "https://localhost:8080/"
        },
        "id": "Oylqm4oOiiTh",
        "outputId": "f7e9350b-8ce6-4889-cdac-f701925dc20c"
      },
      "outputs": [
        {
          "output_type": "stream",
          "name": "stdout",
          "text": [
            "nilai ada pada index 2: 1993\n",
            "nilai baru ada pada index 2: 2001\n"
          ]
        }
      ],
      "source": [
        "list = ['fisika', 'kimia', 1993, 2017]\n",
        "print (\"nilai ada pada index 2:\", list[2])\n",
        "\n",
        "list[2] = 2001\n",
        "print(\"nilai baru ada pada index 2:\", list[2])"
      ]
    },
    {
      "cell_type": "markdown",
      "source": [
        "Hapus nilai dalam list python\n",
        "\n",
        "Untuk menghapus nilai di dalam list python, kita dapat menggunakan salah satu pernyataan del jika nada tahu persis elemen yang anda hapus. Kita dapat menggunakan metode remove () jika anda tidak tahu persis item mana yang akan dihapus."
      ],
      "metadata": {
        "id": "52o2rzXdmvcW"
      }
    },
    {
      "cell_type": "code",
      "source": [
        "#Contoh cara menghapus nilai pada list python\n",
        "list = ['fisika', 'kimia', 1993, 2017]\n",
        "\n",
        "print (list)\n",
        "del list[2]\n",
        "print (\"setelah dihapus nilai pada index 2 :\", list)"
      ],
      "metadata": {
        "colab": {
          "base_uri": "https://localhost:8080/"
        },
        "id": "SNOrio9NmtEv",
        "outputId": "5fa4933c-700b-4d8e-de94-3e415edf44f4"
      },
      "execution_count": 4,
      "outputs": [
        {
          "output_type": "stream",
          "name": "stdout",
          "text": [
            "['fisika', 'kimia', 1993, 2017]\n",
            "setelah dihapus nilai pada index 2 : ['fisika', 'kimia', 2017]\n"
          ]
        }
      ]
    },
    {
      "cell_type": "markdown",
      "source": [
        "Slicing pada list python\n",
        "\n",
        "karena string mirip dengan list, maka slicing operator [] juga dapat digunakan pada string untuk mengambil isinya atau bahkan substring. Sebuah string utuh bersifat mutable (bisa diubah), namun elemennya bersifat immutable (tidak bisa diubah)."
      ],
      "metadata": {
        "id": "mGnEWu-wpDot"
      }
    },
    {
      "cell_type": "code",
      "source": [
        "L = ['C++', 'Java', 'Pyhton']\n",
        "print ('indeks ke-2:', L[2])\n",
        "print ('indeks ke-2 dari belakang:', L[-2])\n",
        "print ('indeks ke 1 dan 2:', L[1:])\n"
      ],
      "metadata": {
        "colab": {
          "base_uri": "https://localhost:8080/"
        },
        "id": "TV5566vRnupP",
        "outputId": "b046b899-3bc3-4a66-abcf-51c2bcb42a90"
      },
      "execution_count": 5,
      "outputs": [
        {
          "output_type": "stream",
          "name": "stdout",
          "text": [
            "indeks ke-2: Pyhton\n",
            "indeks ke-2 dari belakang: Java\n",
            "indeks ke 1 dan 2: ['Java', 'Pyhton']\n"
          ]
        }
      ]
    },
    {
      "cell_type": "markdown",
      "source": [
        "Set\n",
        "\n",
        "Set juga merupakan tipe data untuk mengumpulkan beberapa item dalam satu variabel. Bedanya, item di dalam set bersifat tidak berurutan dan tidak bisa diubah/diduplikasi. Set menggunakan {} sebagai kontainer.\n",
        "\n",
        "Sama seperti list, set juga bisa diisi oleh item dengan berbagai jenis data."
      ],
      "metadata": {
        "id": "ez7FdTUgqUNV"
      }
    },
    {
      "cell_type": "markdown",
      "source": [
        "Mengakses item dalam set\n",
        "\n",
        "Karena set menampung item tidak secara berurutan, maka kita harus memasukkan nilai item secara spesifik, dan tidak bisa menggunakan urutan seperti list."
      ],
      "metadata": {
        "id": "NG5h6qGDqxRA"
      }
    },
    {
      "cell_type": "code",
      "source": [
        "a = {\"Rokok\", \"korek\", \"asbak\"}\n",
        "print(\"Rokok\" in a)"
      ],
      "metadata": {
        "colab": {
          "base_uri": "https://localhost:8080/"
        },
        "id": "A6xHFro2qQ6j",
        "outputId": "f4614946-6182-46d2-ddd6-108678720b0c"
      },
      "execution_count": 6,
      "outputs": [
        {
          "output_type": "stream",
          "name": "stdout",
          "text": [
            "True\n"
          ]
        }
      ]
    },
    {
      "cell_type": "markdown",
      "source": [
        "Menghapus item dalam set\n",
        "\n",
        "Untuk menghapus item di dalam set, fungsi yang digunakann adalah (variabel).remove(item). Kita tidak bisa menggunakan.pop(urutan_item) seperti di list, karena set tidak memiliki urutan item.\n"
      ],
      "metadata": {
        "id": "tv2v_pDVrMEB"
      }
    },
    {
      "cell_type": "code",
      "source": [
        "a = {\"rokok\", \"korek\", \"asbak\"}\n",
        "a.remove(\"korek\")\n",
        "print(a)"
      ],
      "metadata": {
        "colab": {
          "base_uri": "https://localhost:8080/"
        },
        "id": "ES2jH5JrrJ1Z",
        "outputId": "591d538a-5c20-4fc4-a814-568a38b8f992"
      },
      "execution_count": 7,
      "outputs": [
        {
          "output_type": "stream",
          "name": "stdout",
          "text": [
            "{'asbak', 'rokok'}\n"
          ]
        }
      ]
    },
    {
      "cell_type": "markdown",
      "source": [
        "Dictionary\n",
        "\n",
        "Dictionary sebagai tipe data berfungsi mengumpulkan beberapa item dalam satu variabel dengan format key:value. Item di dalam dictionary bersifat berurutan, bisa diubah, tetapi tidak bisa di duplikasi. Dictionary menggunakan simbol {item:item} sebagai kontainer.\n",
        "Contoh dictionary yang diisi item dengan berbagai jenis tipe data."
      ],
      "metadata": {
        "id": "HAwit_l9rxZk"
      }
    },
    {
      "cell_type": "code",
      "source": [
        "x = {\"nama\": \"Budi\", \"umur\":50, \"tinggi_badan\": 155.5}\n",
        "print(x)"
      ],
      "metadata": {
        "colab": {
          "base_uri": "https://localhost:8080/"
        },
        "id": "PujWng0YsYqY",
        "outputId": "b2a8d061-b1b8-4243-ada1-2cbd60613fa7"
      },
      "execution_count": 8,
      "outputs": [
        {
          "output_type": "stream",
          "name": "stdout",
          "text": [
            "{'nama': 'Budi', 'umur': 50, 'tinggi_badan': 155.5}\n"
          ]
        }
      ]
    },
    {
      "cell_type": "markdown",
      "source": [
        "Mengakses value dari dictionary\n",
        "\n",
        "Untuk mengakses value dari sebuah key dalam dictionary, gunakan (variabel[key])."
      ],
      "metadata": {
        "id": "MJHw7WJest8p"
      }
    },
    {
      "cell_type": "code",
      "source": [
        "menteri = {\"nama\": \"Budi\", \"umur\":50}\n",
        "print(menteri[\"umur\"])"
      ],
      "metadata": {
        "colab": {
          "base_uri": "https://localhost:8080/"
        },
        "id": "cFQZYepErvL7",
        "outputId": "ae021b39-b6af-45db-80f1-3aa1ff4b1ff1"
      },
      "execution_count": 9,
      "outputs": [
        {
          "output_type": "stream",
          "name": "stdout",
          "text": [
            "50\n"
          ]
        }
      ]
    },
    {
      "cell_type": "code",
      "source": [
        "#Contoh cara membuat dictionary python\n",
        "dict = {'Name': 'Sher', 'Age': 7, 'Class': 'First'}\n",
        "print(\"dict['Name]:\", dict['Name'])\n",
        "print(\"dict['Age]:\", dict['Age'])"
      ],
      "metadata": {
        "colab": {
          "base_uri": "https://localhost:8080/"
        },
        "id": "bfktWNe_tF8z",
        "outputId": "b5686a2b-a4c2-403b-811f-87cd371218c4"
      },
      "execution_count": 15,
      "outputs": [
        {
          "output_type": "stream",
          "name": "stdout",
          "text": [
            "dict['Name]: Sher\n",
            "dict['Age]: 7\n"
          ]
        }
      ]
    },
    {
      "cell_type": "markdown",
      "source": [
        "Update nilai dalam dictionary python\n",
        "\n",
        "dapat memperbarui dictionary dengan menambahkan entri baru atau pasangan nilai kunci, memodifikasi entri yang ada"
      ],
      "metadata": {
        "id": "jlTWzMMJvHaZ"
      }
    },
    {
      "cell_type": "markdown",
      "source": [
        "Mengubah item\n",
        "\n",
        "Untuk mengubah item, kita perlu menemtukan terlebih dahulu key dari item yang ingin diubah. Sintaksis yang digunakan adalah (variabel[key])=value_baru"
      ],
      "metadata": {
        "id": "rcscpLVYvaeI"
      }
    },
    {
      "cell_type": "code",
      "source": [
        "#update dictionary python\n",
        "\n",
        "dict = {'Name': 'Sher', 'Age': 7, 'Class': 'First'}\n",
        "dict['Age'] = 8; #Mengubah entri yang sudah ada\n",
        "dict['School'] = \"DPS School\" #Menambah entri baru\n",
        "\n",
        "print(\"dict['Age']:\", dict['Age'])\n",
        "print(\"dict['School]:\", dict['School'])"
      ],
      "metadata": {
        "colab": {
          "base_uri": "https://localhost:8080/"
        },
        "id": "fVnQoETJt-0Z",
        "outputId": "7bdbe1ee-e73e-4d05-f8d9-f929f5792b88"
      },
      "execution_count": 18,
      "outputs": [
        {
          "output_type": "stream",
          "name": "stdout",
          "text": [
            "dict['Age']: 8\n",
            "dict['School]: DPS School\n"
          ]
        }
      ]
    },
    {
      "cell_type": "code",
      "source": [
        "menteri = {\"nama\": \"Sher\", \"umur\": 19}\n",
        "menteri[\"kementrian\"] = \"Lyn\"\n",
        "print(menteri)"
      ],
      "metadata": {
        "colab": {
          "base_uri": "https://localhost:8080/"
        },
        "id": "HGMhudb60wGg",
        "outputId": "1aaeb034-7331-419c-b79e-168de6f6dffa"
      },
      "execution_count": 17,
      "outputs": [
        {
          "output_type": "stream",
          "name": "stdout",
          "text": [
            "{'nama': 'Lyn', 'umur': 19}\n"
          ]
        }
      ]
    },
    {
      "cell_type": "markdown",
      "source": [
        "Menambah item\n",
        "\n",
        "Menambah item memiliki langkah yang sama dengan mengubah item. Bedanya, key yang dimasukkan adalah dalam dictionary. Sintaksis yang digunakan adalah (variabel[key_baru]) = value_baru."
      ],
      "metadata": {
        "id": "IilfwFdw8v1o"
      }
    },
    {
      "cell_type": "code",
      "source": [
        "menteri = {\"nama\": \"Sher\", \"Umur\": 19}\n",
        "menteri[\"kementerian\"] = \"Setneg\"\n",
        "print(menteri)"
      ],
      "metadata": {
        "colab": {
          "base_uri": "https://localhost:8080/"
        },
        "id": "dx7zHEtW0-_8",
        "outputId": "97cec7bd-0845-404e-a3c0-8133e881ba86"
      },
      "execution_count": 19,
      "outputs": [
        {
          "output_type": "stream",
          "name": "stdout",
          "text": [
            "{'nama': 'Sher', 'Umur': 19, 'kementerian': 'Setneg'}\n"
          ]
        }
      ]
    },
    {
      "cell_type": "markdown",
      "source": [
        "Menghapus item\n",
        "\n",
        "Untuk menghapus item dalam dictionary, kita menggunakan fungsi. Pop dengan sintaksis (varibel). pop(key_yang_ingin_dihapus)."
      ],
      "metadata": {
        "id": "9p_oxRg09cTm"
      }
    },
    {
      "cell_type": "code",
      "source": [
        "menteri = {\"nama\": \"Sher\", \"umur\": 19, \"kementerian\": \"setneg\"}\n",
        "print(menteri.pop(\"kementerian\"))"
      ],
      "metadata": {
        "colab": {
          "base_uri": "https://localhost:8080/"
        },
        "id": "3TfpweBZ9Z4s",
        "outputId": "fef6b17d-0663-4e18-b288-3a0d2774002f"
      },
      "execution_count": 20,
      "outputs": [
        {
          "output_type": "stream",
          "name": "stdout",
          "text": [
            "setneg\n"
          ]
        }
      ]
    },
    {
      "cell_type": "code",
      "source": [
        "#Contoh cara menghapus pada Dictionary Python\n",
        "dict = {'Name': 'Sher', 'Age': 7, 'Class': 'First'}\n",
        "del dict['Name'] #hapus entri dengan key 'Name'\n",
        "dict.clear() #hapus semua entri di dict\n",
        "del dict #hapus dictionary yang sudah ada\n",
        "print(\"dict['Age']:\", dict['Age'])\n",
        "print(\"dict['School']:\", dict['School'])"
      ],
      "metadata": {
        "colab": {
          "base_uri": "https://localhost:8080/"
        },
        "id": "1Apu3TnV-GNb",
        "outputId": "7fa5317e-524a-4116-e05a-05cdacfd1843"
      },
      "execution_count": 21,
      "outputs": [
        {
          "output_type": "stream",
          "name": "stdout",
          "text": [
            "dict['Age']: dict['Age']\n",
            "dict['School']: dict['School']\n"
          ]
        }
      ]
    },
    {
      "cell_type": "code",
      "source": [],
      "metadata": {
        "id": "DBnEzQ94-zEi"
      },
      "execution_count": null,
      "outputs": []
    }
  ]
}