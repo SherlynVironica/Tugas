{
  "nbformat": 4,
  "nbformat_minor": 0,
  "metadata": {
    "colab": {
      "provenance": []
    },
    "kernelspec": {
      "name": "python3",
      "display_name": "Python 3"
    },
    "language_info": {
      "name": "python"
    }
  },
  "cells": [
    {
      "cell_type": "markdown",
      "source": [
        "**OPERATOR**\n",
        "\n",
        "Operator simbol simbol yang dapat digunakan untuk mengubah nilai dari satu variabel dengan melibatkan satu atau lebih variabel dan literal. Tipe tipe operator:\n",
        "\n",
        "1. Operator Aritmatika\n",
        "2. Operator Assignment\n",
        "3. Operator Pembanding\n",
        "4. Operator Logika\n",
        "5. Operator Membership"
      ],
      "metadata": {
        "id": "Um9CWQ2zvhBg"
      }
    },
    {
      "cell_type": "markdown",
      "source": [
        "Contoh penggunaan operator Aritmatika"
      ],
      "metadata": {
        "id": "ct6a2BSKv7w9"
      }
    },
    {
      "cell_type": "code",
      "source": [
        "#Penjumlahan\n",
        "print('Penjumlahan')\n",
        "print(2+2)\n",
        "\n",
        "#Pengurangan\n",
        "print('Pengurangan')\n",
        "print('-'*20)\n",
        "print(2-3)\n",
        "\n",
        "#Perkalian\n",
        "print('Perkalian')\n",
        "print('-'*20)\n",
        "print(2*3)\n",
        "\n",
        "#Pembagian\n",
        "print('Pembagian')\n",
        "print('-'*20)\n",
        "print(2/3)\n",
        "\n",
        "#Modulus\n",
        "print('Modulus')\n",
        "print('-'*20)\n",
        "print(3%2)\n",
        "\n",
        "#Perpangkatan\n",
        "print('Perpangkatan')\n",
        "print('-'*20)\n",
        "print(2**3)\n",
        "\n",
        "#Pembagian dengan hasil pembulatan flooring\n",
        "print('Pembagian pembulatan flooring')\n",
        "print('-'*20)\n",
        "print(3//2)"
      ],
      "metadata": {
        "colab": {
          "base_uri": "https://localhost:8080/"
        },
        "id": "qYHVPhP4uD-k",
        "outputId": "8bc33b27-3f19-4747-a216-0630035c1185"
      },
      "execution_count": 6,
      "outputs": [
        {
          "output_type": "stream",
          "name": "stdout",
          "text": [
            "Penjumlahan\n",
            "4\n",
            "Pengurangan\n",
            "--------------------\n",
            "-1\n",
            "Perkalian\n",
            "--------------------\n",
            "6\n",
            "Pembagian\n",
            "--------------------\n",
            "0.6666666666666666\n",
            "Modulus\n",
            "--------------------\n",
            "1\n",
            "Perpangkatan\n",
            "--------------------\n",
            "8\n",
            "Pembagian pembulatan flooring\n",
            "--------------------\n",
            "1\n"
          ]
        }
      ]
    },
    {
      "cell_type": "markdown",
      "source": [
        "Contoh penggunaan operator Assignment"
      ],
      "metadata": {
        "id": "eKGLPxktwV-8"
      }
    },
    {
      "cell_type": "code",
      "source": [
        "#Penjumlahan\n",
        "print('Penjumlahan')\n",
        "x=5\n",
        "x=x+5\n",
        "print(x)\n",
        "x=5\n",
        "x+=5\n",
        "print(x)\n",
        "print('-'*20)\n",
        "\n",
        "#Pengurangan\n",
        "print('Pengurangan')\n",
        "x=5\n",
        "x=x-5\n",
        "print(x)\n",
        "x=5\n",
        "x-=3\n",
        "print(x)\n",
        "print('-'*20)\n",
        "\n",
        "#Perkalian\n",
        "print('Perkalian')\n",
        "x=5\n",
        "x=x*5\n",
        "print(x)\n",
        "x=5\n",
        "x*=3\n",
        "print(x)\n",
        "print('-'*20)\n",
        "\n",
        "#Pembagian\n",
        "print('pembagian')\n",
        "x=5\n",
        "x=x/5\n",
        "print(x)\n",
        "x=5\n",
        "x/=3\n",
        "print(x)\n",
        "print('-'*20)\n",
        "\n",
        "#Modulus\n",
        "print('Modulus')\n",
        "x=5\n",
        "x=x%5\n",
        "print(x)\n",
        "x=5\n",
        "x%=3\n",
        "print(x)\n",
        "print('-'*20)\n",
        "\n",
        "#Pembagian Flooring\n",
        "print('Pembagian Flooring')\n",
        "x=5\n",
        "x=x//5\n",
        "print(x)\n",
        "x=5\n",
        "x//=3\n",
        "print(x)\n",
        "print('-'*20)\n",
        "\n",
        "#Perpangkatan\n",
        "print('Perpangkatan')\n",
        "x=5\n",
        "x=x**5\n",
        "print(x)\n",
        "x=5\n",
        "x**=3\n",
        "print(x)\n",
        "print('-'*20)\n"
      ],
      "metadata": {
        "colab": {
          "base_uri": "https://localhost:8080/"
        },
        "id": "VOnmbODfueJ6",
        "outputId": "4f1c2466-534e-4fd0-eb35-e5a238752212"
      },
      "execution_count": 8,
      "outputs": [
        {
          "output_type": "stream",
          "name": "stdout",
          "text": [
            "Penjumlahan\n",
            "10\n",
            "10\n",
            "--------------------\n",
            "Pengurangan\n",
            "0\n",
            "2\n",
            "--------------------\n",
            "Perkalian\n",
            "25\n",
            "15\n",
            "--------------------\n",
            "pembagian\n",
            "1.0\n",
            "1.6666666666666667\n",
            "--------------------\n",
            "Modulus\n",
            "0\n",
            "2\n",
            "--------------------\n",
            "Pembagian Flooring\n",
            "1\n",
            "1\n",
            "--------------------\n",
            "Perpangkatan\n",
            "3125\n",
            "125\n",
            "--------------------\n"
          ]
        }
      ]
    },
    {
      "cell_type": "markdown",
      "source": [
        "Contoh penggunaan operator pembanding"
      ],
      "metadata": {
        "id": "SSy1mtb_xYKf"
      }
    },
    {
      "cell_type": "code",
      "source": [
        "print(2==2)\n",
        "print(2!=2)\n",
        "print(2>2)\n",
        "print(2<2)\n",
        "print(2>=2)\n",
        "print(2<=2)"
      ],
      "metadata": {
        "colab": {
          "base_uri": "https://localhost:8080/"
        },
        "id": "M3UXmJwuxi-F",
        "outputId": "a688f58d-9ea0-47fa-f0c8-6328c10be0e9"
      },
      "execution_count": 9,
      "outputs": [
        {
          "output_type": "stream",
          "name": "stdout",
          "text": [
            "True\n",
            "False\n",
            "False\n",
            "False\n",
            "True\n",
            "True\n"
          ]
        }
      ]
    },
    {
      "cell_type": "markdown",
      "source": [
        "Contoh penggunaan operator logika"
      ],
      "metadata": {
        "id": "kmRTSUjwxvt7"
      }
    },
    {
      "cell_type": "code",
      "source": [
        "print(True and False)\n",
        "print(False or False)\n",
        "print(not False and True)"
      ],
      "metadata": {
        "colab": {
          "base_uri": "https://localhost:8080/"
        },
        "id": "j1FDmEPexu0I",
        "outputId": "0ee715f8-bb97-4775-f8b4-43064ac630fa"
      },
      "execution_count": 10,
      "outputs": [
        {
          "output_type": "stream",
          "name": "stdout",
          "text": [
            "False\n",
            "False\n",
            "True\n"
          ]
        }
      ]
    },
    {
      "cell_type": "markdown",
      "source": [
        "Contoh penggunaan operator keanggotaan"
      ],
      "metadata": {
        "id": "ZH0qL3LnyAeh"
      }
    },
    {
      "cell_type": "code",
      "source": [
        "a=(1,2,3,4,5,6)\n",
        "b=2\n",
        "print(b in a)\n",
        "print(\"-\"*20)\n",
        "\n",
        "a=(1,2,3,4,5,6)\n",
        "b=7\n",
        "print(b not in a)"
      ],
      "metadata": {
        "colab": {
          "base_uri": "https://localhost:8080/"
        },
        "id": "KGfzjtEsxKwX",
        "outputId": "3837136d-ec38-4709-8620-e96ee5843b6d"
      },
      "execution_count": 12,
      "outputs": [
        {
          "output_type": "stream",
          "name": "stdout",
          "text": [
            "True\n",
            "--------------------\n",
            "True\n"
          ]
        }
      ]
    },
    {
      "cell_type": "markdown",
      "source": [
        "**Variabel**\n",
        "\n",
        "Variabel: Lokal penyimpanan yang dapat digunakan untuk menampung sebuah data atau informasi.\n",
        "\n",
        "Syarat syarat penamaan variabel\n",
        "\n",
        "1. Karakter - karakter yang digunakan untuk penamaan variable adalah alphabet, angka dan underscore.\n",
        "2. Karakter pertama variabel harus berupa huruf atau garis bawah/underscore, dan tidak bisa berupa angka 3. Nama sebuah variabel tidak bisa menggunakan keyword atau reserved words dari bahasa python seperti for, if dan lainnya\n",
        "4. Karakter pada nama variabel bersifat sensitif (case-sensitif)"
      ],
      "metadata": {
        "id": "tL7PsUrvyh9D"
      }
    },
    {
      "cell_type": "code",
      "source": [
        "# membuat variabel\n",
        "kalimat = 'ini adalah variabel'\n",
        "bilangan1 = 4\n",
        "bilangan2 = 2.5\n",
        "bilangan3 = True\n",
        "bilangan4 = 1j + 4\n",
        "\n",
        "# menampilkan variabel\n",
        "print(kalimat)\n",
        "print(bilangan1)\n",
        "print(bilangan2)\n",
        "print(bilangan3)\n",
        "print(bilangan4)"
      ],
      "metadata": {
        "colab": {
          "base_uri": "https://localhost:8080/"
        },
        "id": "xj9Y6sdfyK3Z",
        "outputId": "e513aebe-974a-4e55-d770-1aa30ef67a6d"
      },
      "execution_count": 13,
      "outputs": [
        {
          "output_type": "stream",
          "name": "stdout",
          "text": [
            "ini adalah variabel\n",
            "4\n",
            "2.5\n",
            "True\n",
            "(4+1j)\n"
          ]
        }
      ]
    },
    {
      "cell_type": "markdown",
      "source": [
        "**TIPE DATA & KONVERSI TIPE DATA**\n",
        "\n",
        "Tipe Data\n",
        "\n",
        "5 tipe data yaitu\n",
        "\n",
        "1. Integr atau bilangan bulat\n",
        "2. Float atau bilangan desimal\n",
        "3. string atau kalimat\n",
        "4. Boolean yang terdiri dari True dan False\n",
        "5. Complex yang merupakan bilangan kompleks"
      ],
      "metadata": {
        "id": "EA889gMoy5GC"
      }
    },
    {
      "cell_type": "code",
      "source": [
        "# menampilkan tipe data\n",
        "print(type(kalimat))\n",
        "print(type (bilangan1))\n",
        "print(type(bilangan2))\n",
        "print(type (bilangan3))\n",
        "print(type(bilangan4))"
      ],
      "metadata": {
        "colab": {
          "base_uri": "https://localhost:8080/"
        },
        "id": "fyrudelFy4OD",
        "outputId": "b695f492-bd4b-44d1-b983-fc499c52f4d1"
      },
      "execution_count": 14,
      "outputs": [
        {
          "output_type": "stream",
          "name": "stdout",
          "text": [
            "<class 'str'>\n",
            "<class 'int'>\n",
            "<class 'float'>\n",
            "<class 'bool'>\n",
            "<class 'complex'>\n"
          ]
        }
      ]
    },
    {
      "cell_type": "code",
      "source": [
        "# menampilkan tipe data\n",
        "print(type(kalimat))\n",
        "print(type (bilangan1))\n",
        "print(type(bilangan2))\n",
        "print(type (bilangan3))\n",
        "print(type(bilangan4))"
      ],
      "metadata": {
        "colab": {
          "base_uri": "https://localhost:8080/"
        },
        "id": "RT0_JNLHyyJn",
        "outputId": "0258b611-129b-44b9-ee94-98bb633e1194"
      },
      "execution_count": 15,
      "outputs": [
        {
          "output_type": "stream",
          "name": "stdout",
          "text": [
            "<class 'str'>\n",
            "<class 'int'>\n",
            "<class 'float'>\n",
            "<class 'bool'>\n",
            "<class 'complex'>\n"
          ]
        }
      ]
    },
    {
      "cell_type": "code",
      "source": [
        "# Konversi Tipe Data\n",
        "\n",
        "# konversi tipe data integer\n",
        "print(int(bilangan2))\n",
        "print(int(bilangan3))\n",
        "\n",
        "#konversi tipe data float\n",
        "print(float(bilangan1))\n",
        "print(float(bilangan3))\n",
        "\n",
        "# konversi tipe data string\n",
        "print(str(bilangan1))\n",
        "print(str(bilangan2))\n",
        "print(str(bilangan3))\n",
        "\n",
        "# konversi tipe data bool\n",
        "print(bool (bilangan1))\n",
        "print(bool (bilangan2))\n",
        "\n",
        "# konversi tipe data complex\n",
        "print(complex(bilangan1))\n",
        "print(complex (bilangan2))\n",
        "print(complex (bilangan3))"
      ],
      "metadata": {
        "colab": {
          "base_uri": "https://localhost:8080/"
        },
        "id": "ug0XTQuNzGX5",
        "outputId": "6d57330c-eea5-4d96-c606-1463263dd1f9"
      },
      "execution_count": 17,
      "outputs": [
        {
          "output_type": "stream",
          "name": "stdout",
          "text": [
            "2\n",
            "1\n",
            "4.0\n",
            "1.0\n",
            "4\n",
            "2.5\n",
            "True\n",
            "True\n",
            "True\n",
            "(4+0j)\n",
            "(2.5+0j)\n",
            "(1+0j)\n"
          ]
        }
      ]
    },
    {
      "cell_type": "code",
      "source": [],
      "metadata": {
        "id": "Q2q4g7T0zXhq"
      },
      "execution_count": null,
      "outputs": []
    }
  ]
}